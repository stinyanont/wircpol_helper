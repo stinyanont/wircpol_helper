{
 "cells": [
  {
   "cell_type": "code",
   "execution_count": null,
   "metadata": {},
   "outputs": [],
   "source": [
    "#Pipeline imports\n",
    "%matplotlib inline\n",
    "%load_ext autoreload\n",
    "%autoreload 2\n",
    "import glob\n",
    "import numpy as np\n",
    "import matplotlib.pyplot as plt\n",
    "import wirc_drp.wirc_object as wo\n",
    "import wirc_drp.constants as constants\n",
    "from wirc_drp.utils import calibration, spec_utils as su, image_utils as iu, source_utils as src\n",
    "from wirc_drp.masks import *\n",
    "import copy\n",
    "\n",
    "from astropy.io import fits\n",
    "from astropy.stats import sigma_clipped_stats\n",
    "\n",
    "%load_ext autoreload\n",
    "%autoreload 2"
   ]
  },
  {
   "cell_type": "markdown",
   "metadata": {},
   "source": [
    "# Load Spectral Extraction Results"
   ]
  },
  {
   "cell_type": "code",
   "execution_count": null,
   "metadata": {},
   "outputs": [],
   "source": [
    "target_name = 'SN2020oi'\n",
    "obs_date = '20200119'\n",
    "bkg_sub = 'AB'\n",
    "filter_name = 'J'\n",
    "\n",
    "spec_cube = np.load('spec_cube_%s_%s_%s_%s.npy'%(target_name, obs_date, filter_name, bkg_sub) )"
   ]
  },
  {
   "cell_type": "code",
   "execution_count": null,
   "metadata": {},
   "outputs": [],
   "source": [
    "spec_cube.shape"
   ]
  },
  {
   "cell_type": "markdown",
   "metadata": {},
   "source": [
    "# Align the spectra in the cube"
   ]
  },
  {
   "cell_type": "code",
   "execution_count": null,
   "metadata": {},
   "outputs": [],
   "source": [
    "#align\n",
    "\n",
    "align_spec_cube = np.copy(spec_cube)\n",
    "align_vec = spec_cube[0,0,1,:]\n",
    "# for i in range(spec_cube.shape[0]):\n",
    "align_spec_cube = su.align_spectral_cube(np.nan_to_num(spec_cube[:,:,:,:]), ref_trace = align_vec)"
   ]
  },
  {
   "cell_type": "code",
   "execution_count": null,
   "metadata": {},
   "outputs": [],
   "source": [
    "# Next two cells are for AB dither only"
   ]
  },
  {
   "cell_type": "code",
   "execution_count": null,
   "metadata": {},
   "outputs": [],
   "source": [
    "# A_spec_cube = np.zeros((spec_cube.shape[0]//8+1,4,4,3,161))\n",
    "# B_spec_cube = np.zeros((spec_cube.shape[0]//8,4,4,3,161))"
   ]
  },
  {
   "cell_type": "code",
   "execution_count": null,
   "metadata": {
    "scrolled": false
   },
   "outputs": [],
   "source": [
    "# # fig,ax = plt.subplots(2,4, figsize = (20, 10))\n",
    "# argmaxes = []\n",
    "# A_spec_cube_aligned = np.copy(A_spec_cube)\n",
    "# B_spec_cube_aligned = np.copy(B_spec_cube)\n",
    "\n",
    "# colors = ['r','c','b','y']\n",
    "# trace_name = ['UL','LR','UR', 'LL']\n",
    "# # align_vec = A_spec_cube[0,0, 0,1,:]\n",
    "\n",
    "\n",
    "\n",
    "# from scipy.ndimage import median_filter, shift\n",
    "# for i in range(A_spec_cube.shape[0]):\n",
    "#     resA =  su.align_spectral_cube(np.nan_to_num(A_spec_cube[i,:,:,:,:]), ref_trace = align_vec)\n",
    "#     resB =  su.align_spectral_cube(np.nan_to_num(B_spec_cube[i,:,:,:,:]), ref_trace = align_vec)\n",
    "# #     print(resA.shape)\n",
    "#     A_spec_cube_aligned[i] = resA\n",
    "#     B_spec_cube_aligned[i] = resB \n",
    "#     fig,ax = plt.subplots(2,4, figsize = (16,5))\n",
    "\n",
    "#     for j in range(A_spec_cube.shape[2]):\n",
    "#         for ang in range(4):\n",
    "#             #######This block is trying to align spectra to peak\n",
    "# #             vec_A = A_spec_cube[i,ang, j,1,:]\n",
    "# #             vec_B = B_spec_cube[i,ang, j,1,:]\n",
    "# #             vec_A = median_filter(vec_A, 3)\n",
    "# #             vec_B = median_filter(vec_B, 3)\n",
    "# #             dA = np.argmax(vec_A) - 122\n",
    "# #             dB = np.argmax(vec_B) - 122\n",
    "# # # #             A_spec_cube_aligned[i,ang,j,1,:] = median_filter(shift(A_spec_cube[i,ang,j,1,:], -dA), 3)\n",
    "# # # #             B_spec_cube_aligned[i,ang,j,1,:] = median_filter(shift(B_spec_cube[i,ang,j,1,:], -dB), 3)\n",
    "# #             A_spec_cube_aligned[i,ang,j,1,:] = shift(A_spec_cube[i,ang,j,1,:], -dA)\n",
    "# #             B_spec_cube_aligned[i,ang,j,1,:] = shift(B_spec_cube[i,ang,j,1,:], -dB)\n",
    "#             ########################################\n",
    "#             ax[0,j].plot(A_spec_cube_aligned[i,ang,j,1,:], color = colors[ang])\n",
    "#             ax[0,j].axvline(105, ls = ':')\n",
    "#             ax[0,j].axvline(80, ls = ':')\n",
    "#             ax[0,j].axhline(0, ls = ':')\n",
    "\n",
    "# #             if i != 1:\n",
    "#             ax[1,j].plot(B_spec_cube_aligned[i,ang,j,1,:], color = colors[ang])\n",
    "#             ax[1,j].axvline(105, ls = ':')\n",
    "#             ax[1,j].axvline(80, ls = ':')\n",
    "#             ax[1,j].axhline(0, ls = ':')\n",
    "\n",
    "#             ax[0,j].set_ylim([-1000,6500])\n",
    "#             ax[1,j].set_ylim([-1000,6500])\n",
    "#             if i == 0:\n",
    "#                 ax[0,j].set_title('%s trace'%trace_name[j])\n",
    "#             ax[0,0].set_ylabel('A pos, set %d'%(i+1))\n",
    "#             ax[1,0].set_ylabel('B pos, set %d'%(i+1))\n",
    "#     plt.show()\n"
   ]
  },
  {
   "cell_type": "markdown",
   "metadata": {},
   "source": [
    "# Compute wavelength solution"
   ]
  },
  {
   "cell_type": "code",
   "execution_count": null,
   "metadata": {},
   "outputs": [],
   "source": [
    "flux_spec = np.median(align_spec_cube[:,0,1], axis = 0)\n",
    "\n",
    "flux_spec = flux_spec/np.max(flux_spec)\n",
    "# flux_spec[flux_spec > 0.2] = 0.2\n",
    "\n",
    "wlSol_rough = su.rough_wavelength_calibration_v2(flux_spec, filter_name = filter_name)\n",
    "\n"
   ]
  },
  {
   "cell_type": "code",
   "execution_count": null,
   "metadata": {},
   "outputs": [],
   "source": [
    "from wirc_drp import constants\n",
    "\n",
    "#This line fiddle with the wavelength solution to correct it\n",
    "# wlSol = ((wlSol_rough-1.145+0.005)*0.98)+1.145\n",
    "wlSol = wlSol_rough\n",
    "\n",
    "\n",
    "plt.plot(wlSol, flux_spec/np.max(flux_spec))\n",
    "lb,dlb, f0, transmission, central_wl_pix = constants.getFilterInfo('J')\n",
    "plt.plot(wlSol, transmission(wlSol))\n",
    "\n",
    "# plt.axvline(1.31)"
   ]
  },
  {
   "cell_type": "code",
   "execution_count": null,
   "metadata": {},
   "outputs": [],
   "source": [
    "align_spec_cube.shape"
   ]
  },
  {
   "cell_type": "markdown",
   "metadata": {},
   "source": [
    "# Load a half wave plate sequence and compute q and u"
   ]
  },
  {
   "cell_type": "code",
   "execution_count": null,
   "metadata": {},
   "outputs": [],
   "source": [
    "HWP_all = np.load('HWP_%s_%s_%s.npy'%(target_name, obs_date, filter_name))"
   ]
  },
  {
   "cell_type": "code",
   "execution_count": null,
   "metadata": {},
   "outputs": [],
   "source": [
    "# A_q, A_u, A_qerr, A_uerr, A_qind, A_uind = src.compute_qu_for_obs_sequence(A_spec_cube_aligned, HWP_A)\n",
    "# B_q, B_u, B_qerr, B_uerr, B_qind, B_uind = src.compute_qu_for_obs_sequence(B_spec_cube_Bligned, HWP_B)\n",
    "\n",
    "#Compute q and u here\n",
    "\n",
    "all_q, all_u, all_qerr, all_uerr, all_qind, all_uind = \\\n",
    "    src.compute_qu_for_obs_sequence(align_spec_cube , np.array(HWP_all), run_alignment = False)"
   ]
  },
  {
   "cell_type": "code",
   "execution_count": null,
   "metadata": {},
   "outputs": [],
   "source": [
    "# q_A = []\n",
    "# q_B = []\n",
    "# u_A = []\n",
    "# u_B = []\n",
    "# for i in range(len(all_q)):\n",
    "#     if i%8 <= 3:\n",
    "#         q_A += [all_q[i]]\n",
    "#         u_A += [all_u[i]]\n",
    "#     else:\n",
    "#         q_B += [all_q[i]]\n",
    "#         u_B += [all_u[i]] "
   ]
  },
  {
   "cell_type": "markdown",
   "metadata": {},
   "source": [
    "# Organize results into those from LL-UR and LR-UL pairs for calibration\n",
    "compare results from LL-UR vs LR-UL pairs"
   ]
  },
  {
   "cell_type": "code",
   "execution_count": null,
   "metadata": {},
   "outputs": [],
   "source": [
    "q_ind0 = all_q[all_qind == 0]\n",
    "q_ind1 = all_q[all_qind == 1]\n",
    "u_ind0 = all_u[all_uind == 0]\n",
    "u_ind1 = all_u[all_uind == 1]"
   ]
  },
  {
   "cell_type": "code",
   "execution_count": null,
   "metadata": {},
   "outputs": [],
   "source": [
    "#calibrate_qu(wvs,q,u,qerr,uerr,trace_pair)"
   ]
  },
  {
   "cell_type": "code",
   "execution_count": null,
   "metadata": {},
   "outputs": [],
   "source": [
    "P0q_sc,P0q_sc_med,P0q_sc_std = sigma_clipped_stats(q_ind0, sigma = 3, maxiters = 5, axis = 0)\n",
    "P0u_sc,P0u_sc_med,P0u_sc_std = sigma_clipped_stats(u_ind0, sigma = 3, maxiters = 5, axis = 0)\n",
    "P1q_sc,P1q_sc_med,P1q_sc_std = sigma_clipped_stats(q_ind1, sigma = 3, maxiters = 5, axis = 0)\n",
    "P1u_sc,P1u_sc_med,P1u_sc_std = sigma_clipped_stats(u_ind1, sigma = 3, maxiters = 5, axis = 0)"
   ]
  },
  {
   "cell_type": "markdown",
   "metadata": {},
   "source": [
    "## Calibrate for polarimetric efficiency and cross-talk"
   ]
  },
  {
   "cell_type": "code",
   "execution_count": null,
   "metadata": {},
   "outputs": [],
   "source": [
    "#Calibrate q u efficiency and cross-talk\n",
    "cal_q0,cal_u0,cal_q_err0,cal_u_err0 = calibration.calibrate_qu(wlSol, P0q_sc, P0u_sc,\n",
    "                                         P0q_sc_std/np.sqrt(len(q_ind0)), P0u_sc_std/np.sqrt(len(u_ind0)), 0)\n",
    "\n",
    "cal_q1,cal_u1,cal_q_err1,cal_u_err1 = calibration.calibrate_qu(wlSol, P1q_sc, P1u_sc,\n",
    "                                         P1q_sc_std/np.sqrt(len(q_ind1)), P1u_sc_std/np.sqrt(len(u_ind1)), 1)"
   ]
  },
  {
   "cell_type": "code",
   "execution_count": null,
   "metadata": {},
   "outputs": [],
   "source": [
    "fig, ax = plt.subplots(1,2,figsize = (18,9))\n",
    "\n",
    "# for i in range(len(q_ind0)):\n",
    "#     ax[0].plot(q_ind0[i]*100, 'b', alpha = 0.1)\n",
    "#     ax[1].plot(u_ind0[i]*100, 'b', alpha = 0.1)\n",
    "# for i in range(len(q_ind1)):\n",
    "#     ax[0].plot(q_ind1[i]*100, 'r', alpha = 0.1)\n",
    "#     ax[1].plot(u_ind1[i]*100, 'r', alpha = 0.1)\n",
    "    \n",
    "ax[0].errorbar(range(len(P0q_sc)), P0q_sc*100, yerr = P0q_sc_std*100/np.sqrt(len(q_ind0)), color ='b', alpha = 0.5)\n",
    "ax[1].errorbar(range(len(P0u_sc)), -P0u_sc*100, yerr = P0u_sc_std*100/np.sqrt(len(u_ind0)), color ='b', alpha = 0.5)\n",
    "ax[0].errorbar(range(len(P1q_sc)), P1q_sc*100, yerr = P1q_sc_std*100/np.sqrt(len(q_ind1)), color ='r', alpha = 0.5)\n",
    "ax[1].errorbar(range(len(P1u_sc)), -P1u_sc*100, yerr = P1u_sc_std*100/np.sqrt(len(u_ind1)), color ='r', alpha = 0.5)\n",
    "\n",
    "ax[0].errorbar(range(len(P0q_sc)), cal_q0*100, yerr = cal_q_err0, color ='b', alpha = 1)\n",
    "ax[1].errorbar(range(len(P0u_sc)), cal_u0*100, yerr = cal_u_err0, color ='b', alpha = 1)\n",
    "ax[0].errorbar(range(len(P1q_sc)), cal_q1*100, yerr = cal_q_err1, color ='r', alpha = 1)\n",
    "ax[1].errorbar(range(len(P1u_sc)), cal_u1*100, yerr = cal_u_err1, color ='r', alpha = 1)\n",
    "    \n",
    "ax[0].set_ylim([-6,6])\n",
    "ax[1].set_ylim([-6,6])\n",
    "ax[0].set_xlim([40,120])\n",
    "ax[1].set_xlim([40,120])\n"
   ]
  },
  {
   "cell_type": "markdown",
   "metadata": {},
   "source": [
    "## Non-smooth AB diagnostic\n",
    "Use this only for AB subtraction to compare if results from A and B agree"
   ]
  },
  {
   "cell_type": "code",
   "execution_count": null,
   "metadata": {},
   "outputs": [],
   "source": []
  },
  {
   "cell_type": "code",
   "execution_count": null,
   "metadata": {},
   "outputs": [],
   "source": [
    "# Aq_sc,Aq_sc_med,Aq_sc_std = sigma_clipped_stats(q_A, sigma = 3, maxiters = 5, axis = 0)\n",
    "# Au_sc,Au_sc_med,Au_sc_std = sigma_clipped_stats(u_A, sigma = 3, maxiters = 5, axis = 0)\n",
    "\n",
    "# Bq_sc,Bq_sc_med,Bq_sc_std = sigma_clipped_stats(q_B, sigma = 3, maxiters = 5, axis = 0)\n",
    "# Bu_sc,Bu_sc_med,Bu_sc_std = sigma_clipped_stats(u_B, sigma = 3, maxiters = 5, axis = 0)"
   ]
  },
  {
   "cell_type": "code",
   "execution_count": null,
   "metadata": {},
   "outputs": [],
   "source": [
    "# fig, ax = plt.subplots(1,2,figsize = (18,9))\n",
    "\n",
    "# for i in range(len(q_A)):\n",
    "#     ax[0].plot(q_A[i]*100, 'b', alpha = 0.1)\n",
    "#     ax[1].plot(u_A[i]*100, 'b', alpha = 0.1)\n",
    "# for i in range(len(q_B)):\n",
    "#     ax[0].plot(q_B[i]*100, 'r', alpha = 0.1)\n",
    "#     ax[1].plot(u_B[i]*100, 'r', alpha = 0.1)\n",
    "    \n",
    "# ax[0].errorbar(range(len(Aq_sc)), Aq_sc*100, yerr = Aq_sc_std*100/np.sqrt(len(q_A)), color ='b', alpha = 1)\n",
    "# ax[1].errorbar(range(len(Au_sc)), Au_sc*100, yerr = Au_sc_std*100/np.sqrt(len(u_A)), color ='b', alpha = 1)\n",
    "# ax[0].errorbar(range(len(Bq_sc)), Bq_sc*100, yerr = Bq_sc_std*100/np.sqrt(len(q_B)), color ='r', alpha = 1)\n",
    "# ax[1].errorbar(range(len(Bu_sc)), Bu_sc*100, yerr = Bu_sc_std*100/np.sqrt(len(u_B)), color ='r', alpha = 1)\n",
    "    \n",
    "# ax[0].set_ylim([-10,10])\n",
    "# ax[1].set_ylim([-10,10])\n",
    "# ax[0].set_xlim([40,120])\n",
    "# ax[1].set_xlim([40,120])\n"
   ]
  },
  {
   "cell_type": "code",
   "execution_count": null,
   "metadata": {},
   "outputs": [],
   "source": [
    "# from astropy.stats import sigma_clipped_stats\n",
    "\n",
    "# q_sc,q_sc_med,q_sc_std = sigma_clipped_stats(all_q, sigma = 3, maxiters = 5, axis = 0)\n",
    "# u_sc,u_sc_med,u_sc_std = sigma_clipped_stats(all_u, sigma = 3, maxiters = 5, axis = 0)\n"
   ]
  },
  {
   "cell_type": "code",
   "execution_count": null,
   "metadata": {},
   "outputs": [],
   "source": [
    "# fig, ax = plt.subplots(1,2,figsize = (18,9))\n",
    "\n",
    "# ax[0].errorbar(range(len(q_sc)), q_sc*100, q_sc_std*100/np.sqrt(len(all_q)))\n",
    "# ax[0].set_ylim([-10,10])\n",
    "# ax[0].set_xlim([40,125])\n",
    "\n",
    "\n",
    "# ax[1].errorbar(range(len(u_sc)), u_sc*100, u_sc_std*100/np.sqrt(len(all_u)))\n",
    "# ax[1].set_ylim([-10,10])\n",
    "# ax[1].set_xlim([40,120])\n",
    "\n",
    "\n",
    "# #A and B\n",
    "# ax[0].errorbar(range(len(Aq_sc)), Aq_sc*100, yerr = Aq_sc_std*100/np.sqrt(len(q_A)), color ='b', alpha = 0.5)\n",
    "# ax[1].errorbar(range(len(Au_sc)), Au_sc*100, yerr = Au_sc_std*100/np.sqrt(len(u_A)), color ='b', alpha = 0.5)\n",
    "# ax[0].errorbar(range(len(Bq_sc)), Bq_sc*100, yerr = Bq_sc_std*100/np.sqrt(len(q_B)), color ='r', alpha = 0.5)\n",
    "# ax[1].errorbar(range(len(Bu_sc)), Bu_sc*100, yerr = Bu_sc_std*100/np.sqrt(len(u_B)), color ='r', alpha = 0.5)\n",
    "\n",
    "\n",
    "# ax[0].axhline(0)\n",
    "# ax[1].axhline(0)"
   ]
  },
  {
   "cell_type": "code",
   "execution_count": null,
   "metadata": {},
   "outputs": [],
   "source": [
    "np.stack([cal_q0, cal_q1]).shape"
   ]
  },
  {
   "cell_type": "markdown",
   "metadata": {},
   "source": [
    "## Smooth spectra"
   ]
  },
  {
   "cell_type": "code",
   "execution_count": null,
   "metadata": {},
   "outputs": [],
   "source": [
    "#bin size\n",
    "bs = 5\n",
    "\n",
    "# cal_q = np.average(np.stack([cal_q0, cal_q1]), weights = np.stack([cal_q_err0, cal_q_err1]), axis = 0)\n",
    "# cal_u = np.average(np.stack([cal_u0, cal_u1]), weights = np.stack([cal_u_err0, cal_u_err1]), axis = 0)\n",
    "\n",
    "# cal_q_err = np.sqrt(np.mean(np.stack([cal_q_err0**2, cal_q_err1**2]), axis = 0))\n",
    "# cal_u_err = np.sqrt(np.mean(np.stack([cal_u_err0**2, cal_u_err1**2]), axis = 0))\n",
    "\n",
    "\n",
    "smooth_q = su.smooth_spectra(all_q, kernel = 'box', smooth_size=bs, rebin = True)\n",
    "smooth_u = su.smooth_spectra(all_u, kernel = 'box', smooth_size=bs, rebin = True)\n",
    "\n",
    "\n",
    "\n",
    "q_sc_sm,q_sc_med_sm,q_sc_std_sm = sigma_clipped_stats(smooth_q, sigma = 3, maxiters = 5, axis = 0)\n",
    "u_sc_sm,u_sc_med_sm,u_sc_std_sm = sigma_clipped_stats(smooth_u, sigma = 3, maxiters = 5, axis = 0)\n",
    "\n",
    "wlSol_smooth = su.smooth_spectra(wlSol, kernel = 'box', smooth_size = bs, rebin = True)\n"
   ]
  },
  {
   "cell_type": "markdown",
   "metadata": {},
   "source": [
    "## Smooth pairs 1&2 diagnostic\n",
    "pair 1 is observed at HWP angles 0 and 45 deg; pair 2 at 22.5 and 67.5 deg"
   ]
  },
  {
   "cell_type": "code",
   "execution_count": null,
   "metadata": {},
   "outputs": [],
   "source": [
    "q_sm_ind0 = smooth_q[all_qind == 0]\n",
    "q_sm_ind1 = smooth_q[all_qind == 1]\n",
    "u_sm_ind0 = smooth_u[all_uind == 0]\n",
    "u_sm_ind1 = smooth_u[all_uind == 1]"
   ]
  },
  {
   "cell_type": "code",
   "execution_count": null,
   "metadata": {},
   "outputs": [],
   "source": [
    "# #Calibrate q u efficiency and cross-talk\n",
    "# cal_q0_sm,cal_u0_sm,cal_q_err0_sm,cal_u_err0_sm = calibration.calibrate_qu(wlSol_smooth, P0q_sc_sm, P0u_sc_sm,\n",
    "#                                          P0q_sc_std_sm/np.sqrt(len(q_sm_ind0)), P0u_sc_std_sm/np.sqrt(len(u_sm_ind0)), 0)\n",
    "\n",
    "# cal_q1_sm,cal_u1_sm,cal_q_err1_sm,cal_u_err1_sm = calibration.calibrate_qu(wlSol_smooth, P1q_sc_sm, P1u_sc_sm,\n",
    "#                                          P1q_sc_std_sm/np.sqrt(len(q_sm_ind1)), P1u_sc_std_sm/np.sqrt(len(u_sm_ind1)), 1)"
   ]
  },
  {
   "cell_type": "code",
   "execution_count": null,
   "metadata": {},
   "outputs": [],
   "source": [
    "P0q_sc_sm,P0q_sc_med_sm,P0q_sc_std_sm = sigma_clipped_stats(q_sm_ind0, sigma = 3, maxiters = 20, axis = 0)\n",
    "P0u_sc_sm,P0u_sc_med_sm,P0u_sc_std_sm = sigma_clipped_stats(u_sm_ind0, sigma = 3, maxiters = 20, axis = 0)\n",
    "P1q_sc_sm,P1q_sc_med_sm,P1q_sc_std_sm = sigma_clipped_stats(q_sm_ind1, sigma = 3, maxiters = 20, axis = 0)\n",
    "P1u_sc_sm,P1u_sc_med_sm,P1u_sc_std_sm = sigma_clipped_stats(u_sm_ind1, sigma = 3, maxiters = 20, axis = 0)"
   ]
  },
  {
   "cell_type": "markdown",
   "metadata": {},
   "source": [
    "## Calibrate efficiency and cross talk"
   ]
  },
  {
   "cell_type": "code",
   "execution_count": null,
   "metadata": {},
   "outputs": [],
   "source": [
    "#Calibrate q u efficiency and cross-talk\n",
    "cal_q0_sm,cal_u0_sm,cal_q_err0_sm,cal_u_err0_sm = calibration.calibrate_qu(wlSol_smooth, P0q_sc_sm, P0u_sc_sm,\n",
    "                                         P0q_sc_std_sm/np.sqrt(len(q_sm_ind0)), P0u_sc_std_sm/np.sqrt(len(u_sm_ind0)), 0)\n",
    "\n",
    "cal_q1_sm,cal_u1_sm,cal_q_err1_sm,cal_u_err1_sm = calibration.calibrate_qu(wlSol_smooth, P1q_sc_sm, P1u_sc_sm,\n",
    "                                         P1q_sc_std_sm/np.sqrt(len(q_sm_ind1)), P1u_sc_std_sm/np.sqrt(len(u_sm_ind1)), 1)"
   ]
  },
  {
   "cell_type": "code",
   "execution_count": null,
   "metadata": {},
   "outputs": [],
   "source": [
    "# P0q_sc_sm"
   ]
  },
  {
   "cell_type": "code",
   "execution_count": null,
   "metadata": {},
   "outputs": [],
   "source": [
    "fig, ax = plt.subplots(1,2,figsize = (18,9))\n",
    "\n",
    "for i in range(len(q_sm_ind0)):\n",
    "    ax[0].plot(q_sm_ind0[i]*100, 'b', alpha = 0.1)\n",
    "    ax[1].plot(u_sm_ind0[i]*100, 'b', alpha = 0.1)\n",
    "for i in range(len(q_sm_ind1)):\n",
    "    ax[0].plot(q_sm_ind1[i]*100, 'r', alpha = 0.1)\n",
    "    ax[1].plot(u_sm_ind1[i]*100, 'r', alpha = 0.1)\n",
    "    \n",
    "ax[0].errorbar(range(len(P0q_sc_sm)), P0q_sc_sm*100, yerr = P0q_sc_std_sm*100/np.sqrt(len(q_sm_ind0)), color ='b', alpha = 0.5)\n",
    "ax[1].errorbar(range(len(P0u_sc_sm)), P0u_sc_sm*100, yerr = P0u_sc_std_sm*100/np.sqrt(len(u_sm_ind0)), color ='b', alpha = 0.5)\n",
    "ax[0].errorbar(range(len(P1q_sc_sm)), P1q_sc_sm*100, yerr = P1q_sc_std_sm*100/np.sqrt(len(q_sm_ind1)), color ='r', alpha = 0.5)\n",
    "ax[1].errorbar(range(len(P1u_sc_sm)), P1u_sc_sm*100, yerr = P1u_sc_std_sm*100/np.sqrt(len(u_sm_ind1)), color ='r', alpha = 0.5)\n",
    "\n",
    "ax[0].errorbar(range(len(P0q_sc_sm)), cal_q0_sm*100, yerr = cal_q_err0_sm, color ='b', alpha = 1)\n",
    "ax[1].errorbar(range(len(P0u_sc_sm)), cal_u0_sm*100, yerr = cal_u_err0_sm, color ='b', alpha = 1)\n",
    "ax[0].errorbar(range(len(P1q_sc_sm)), cal_q1_sm*100, yerr = cal_q_err1_sm, color ='r', alpha = 1)\n",
    "ax[1].errorbar(range(len(P1u_sc_sm)), cal_u1_sm*100, yerr = cal_u_err1_sm, color ='r', alpha = 1)\n",
    "\n",
    "ax[0].set_ylim([-10,10])\n",
    "ax[1].set_ylim([-10,10])\n",
    "ax[0].set_xlim([40//5,120//5])\n",
    "ax[1].set_xlim([40//5,120//5])\n"
   ]
  },
  {
   "cell_type": "markdown",
   "metadata": {},
   "source": [
    "## Smooth AB positions comparison"
   ]
  },
  {
   "cell_type": "code",
   "execution_count": null,
   "metadata": {},
   "outputs": [],
   "source": [
    "# q_A_sm = []\n",
    "# q_B_sm = []\n",
    "# u_A_sm = []\n",
    "# u_B_sm = []\n",
    "# for i in range(len(all_q)):\n",
    "#     if i%8 <= 3:\n",
    "#         q_A_sm += [smooth_q[i]]\n",
    "#         u_A_sm += [smooth_u[i]]\n",
    "#     else:\n",
    "#         q_B_sm += [smooth_q[i]]\n",
    "#         u_B_sm += [smooth_u[i]] "
   ]
  },
  {
   "cell_type": "code",
   "execution_count": null,
   "metadata": {},
   "outputs": [],
   "source": [
    "# qA_sc_sm,qA_sc_med_sm,qA_sc_std_sm = sigma_clipped_stats(q_A_sm, sigma = 3, maxiters = 5, axis = 0)\n",
    "# uA_sc_sm,uA_sc_med_sm,uA_sc_std_sm = sigma_clipped_stats(u_A_sm, sigma = 3, maxiters = 5, axis = 0)\n",
    "# qB_sc_sm,qB_sc_med_sm,qB_sc_std_sm = sigma_clipped_stats(q_B_sm, sigma = 3, maxiters = 5, axis = 0)\n",
    "# uB_sc_sm,uB_sc_med_sm,uB_sc_std_sm = sigma_clipped_stats(u_B_sm, sigma = 3, maxiters = 5, axis = 0)"
   ]
  },
  {
   "cell_type": "code",
   "execution_count": null,
   "metadata": {},
   "outputs": [],
   "source": [
    "# fig, ax = plt.subplots(1,2,figsize = (18,9))\n",
    "\n",
    "# for i in range(len(q_A_sm)):\n",
    "#     ax[0].plot(q_A_sm[i]*100, 'b', alpha = 0.1)\n",
    "#     ax[1].plot(u_A_sm[i]*100, 'b', alpha = 0.1)\n",
    "# for i in range(len(q_B_sm)):\n",
    "#     ax[0].plot(q_B_sm[i]*100, 'r', alpha = 0.1)\n",
    "#     ax[1].plot(u_B_sm[i]*100, 'r', alpha = 0.1)\n",
    "    \n",
    "# ax[0].errorbar(range(len(qA_sc_sm)), qA_sc_sm*100, yerr = qA_sc_std_sm*100/np.sqrt(len(q_A_sm)), color ='b', alpha = 1)\n",
    "# ax[1].errorbar(range(len(uA_sc_sm)), uA_sc_sm*100, yerr = uA_sc_std_sm*100/np.sqrt(len(u_A_sm)), color ='b', alpha = 1)\n",
    "# ax[0].errorbar(range(len(qB_sc_sm)), qB_sc_sm*100, yerr = qB_sc_std_sm*100/np.sqrt(len(q_B_sm)), color ='r', alpha = 1)\n",
    "# ax[1].errorbar(range(len(uB_sc_sm)), uB_sc_sm*100, yerr = uB_sc_std_sm*100/np.sqrt(len(u_B_sm)), color ='r', alpha = 1)\n",
    "\n",
    "# # ax[0].errorbar(range(len(qA_sc_sm)), qA_sc_med_sm*100, yerr = qA_sc_std_sm*100/np.sqrt(len(q_A_sm)), color ='m', alpha = 1)\n",
    "# # ax[1].errorbar(range(len(uA_sc_sm)), uA_sc_med_sm*100, yerr = uA_sc_std_sm*100/np.sqrt(len(u_A_sm)), color ='m', alpha = 1)\n",
    "# # ax[0].errorbar(range(len(qB_sc_sm)), qB_sc_med_sm*100, yerr = qB_sc_std_sm*100/np.sqrt(len(q_B_sm)), color ='g', alpha = 1)\n",
    "# # ax[1].errorbar(range(len(uB_sc_sm)), uB_sc_med_sm*100, yerr = uB_sc_std_sm*100/np.sqrt(len(u_B_sm)), color ='g', alpha = 1)\n",
    "\n",
    "\n",
    "# ax[0].set_ylim([-10,10])\n",
    "# ax[1].set_ylim([-10,10])\n",
    "# ax[0].set_xlim([40//5,120//5])\n",
    "# ax[1].set_xlim([40//5,120//5])\n"
   ]
  },
  {
   "cell_type": "markdown",
   "metadata": {},
   "source": [
    "## Final q and u:  average calibrated q and u"
   ]
  },
  {
   "cell_type": "code",
   "execution_count": null,
   "metadata": {},
   "outputs": [],
   "source": [
    "# cal_q = np.average(np.stack([cal_q0_sm, cal_q1_sm]), weights = np.stack([cal_q_err0_sm, cal_q_err1_sm]), axis = 0)\n",
    "# cal_u = np.average(np.stack([cal_u0_sm, cal_u1_sm]), weights = np.stack([cal_u_err0_sm, cal_u_err1_sm]), axis = 0)\n",
    "\n",
    "cal_q_sm = np.mean([cal_q0_sm, cal_q1_sm], axis = 0)\n",
    "cal_u_sm = np.mean([cal_u0_sm, cal_u1_sm], axis = 0)\n",
    "\n",
    "cal_q_err_sm = np.sqrt(cal_q_err0_sm**2 + cal_q_err1_sm**2)/2\n",
    "cal_u_err_sm = np.sqrt(cal_u_err0_sm**2 + cal_u_err1_sm**2)/2"
   ]
  },
  {
   "cell_type": "markdown",
   "metadata": {},
   "source": [
    "## Plot results"
   ]
  },
  {
   "cell_type": "code",
   "execution_count": null,
   "metadata": {},
   "outputs": [],
   "source": [
    "fig, ax = plt.subplots(1,2,figsize = (15,6))\n",
    "\n",
    "wlMin = 1.17\n",
    "wlMax = 1.32\n",
    "plot_range = np.where( np.logical_and(wlSol_smooth < wlMax , wlSol_smooth > wlMin))\n",
    "\n",
    "#smooth\n",
    "# bs = 3\n",
    "# sm_q = su.smooth_spectra(q_sc, kernel = 'box', smooth_size = bs, rebin = True)\n",
    "# sm_u = su.smooth_spectra(u_sc, kernel = 'box', smooth_size = bs, rebin = True)\n",
    "\n",
    "# sm_q_std = su.smooth_spectra(q_sc_std, kernel = 'box', smooth_size = bs, rebin = True)\n",
    "# sm_u_std = su.smooth_spectra(u_sc_std, kernel = 'box', smooth_size = bs, rebin = True)\n",
    "\n",
    "\n",
    "\n",
    "\n",
    "# ax[0].errorbar(wlSol_smooth, sm_q*100, sm_q_std*100/np.sqrt(len(all_q)), marker = 'o', ls = 'None')\n",
    "ax[0].set_ylim([-3,7])\n",
    "ax[0].set_xlim([wlMin,wlMax])\n",
    "\n",
    "# ax[0].errorbar(wlSol_smooth, q_sc_sm*100, q_sc_std_sm*100/np.sqrt(len(all_q)), marker = 's', ls = 'None')\n",
    "ax[0].errorbar(wlSol_smooth, cal_q_sm*100, cal_q_err_sm*100, marker = 's', ls = 'None')\n",
    "\n",
    "\n",
    "\n",
    "# ax[1].errorbar(wlSol_smooth, sm_u*100, sm_u_std*100/np.sqrt(len(all_u)), marker = 'o', ls = 'None')\n",
    "ax[1].set_ylim([-3,7])\n",
    "ax[1].set_xlim([wlMin,wlMax])\n",
    "\n",
    "ax[1].errorbar(wlSol_smooth, cal_u_sm*100, cal_u_err_sm*100, marker = 's', ls = 'None')\n",
    "\n",
    "\n",
    "#Flux\n",
    "ax[0].plot(wlSol, flux_spec/np.max(flux_spec)*6)\n",
    "ax[1].plot(wlSol, flux_spec/np.max(flux_spec)*6)\n",
    "\n",
    "\n",
    "ax[0].axhline(0, ls = '--', color = 'k')\n",
    "ax[1].axhline(0, ls = '--', color = 'k')\n",
    "\n",
    "ax[0].tick_params(labelsize = 18)\n",
    "ax[1].tick_params(labelsize = 18)\n",
    "\n",
    "\n",
    "ax[0].set_xlabel('Wavelength ($\\mu$m)', fontsize = 18)\n",
    "ax[0].set_ylabel('q (%)', fontsize = 20)\n",
    "ax[0].text(1.22,6,'Normalized Flux', color = 'C1', fontsize = 18)\n",
    "\n",
    "\n",
    "ax[1].set_xlabel('Wavelength ($\\mu$m)', fontsize = 18)\n",
    "ax[1].set_ylabel('u (%)', fontsize = 20)\n",
    "ax[1].text(1.22,6,'Normalized Flux', color = 'C1', fontsize = 18)\n",
    "\n",
    "\n",
    "# plt.savefig('20oi_qu_prelim_align_peak.pdf')"
   ]
  },
  {
   "cell_type": "markdown",
   "metadata": {},
   "source": [
    "# Plot q and u in the unit of standard deviation to judge detection"
   ]
  },
  {
   "cell_type": "code",
   "execution_count": null,
   "metadata": {},
   "outputs": [],
   "source": [
    "fig, ax = plt.subplots(1,2,figsize = (15,6))\n",
    "\n",
    "wlMin = 1.17\n",
    "wlMax = 1.31\n",
    "\n",
    "\n",
    "# ax[0].errorbar(wlSol_smooth, sm_q*100, sm_q_std*100/np.sqrt(len(all_q)), marker = 'o', ls = 'None')\n",
    "ax[0].set_ylim([-5,5])\n",
    "ax[0].set_xlim([wlMin,wlMax])\n",
    "\n",
    "ax[0].plot(wlSol_smooth, q_sc_sm/(q_sc_std_sm/np.sqrt(len(all_q))), marker = 's', ls = 'None')\n",
    "\n",
    "\n",
    "\n",
    "# ax[1].errorbar(wlSol_smooth, sm_u*100, sm_u_std*100/np.sqrt(len(all_u)), marker = 'o', ls = 'None')\n",
    "ax[1].set_ylim([-5,5])\n",
    "ax[1].set_xlim([wlMin,wlMax])\n",
    "\n",
    "ax[1].plot(wlSol_smooth, u_sc_sm/(u_sc_std_sm/np.sqrt(len(all_u))), marker = 's', ls = 'None')\n",
    "\n",
    "\n",
    "#Flux\n",
    "# ax[0].plot(wlSol, flux_spec/np.max(flux_spec)*6)\n",
    "# ax[1].plot(wlSol, flux_spec/np.max(flux_spec)*6)\n",
    "\n",
    "\n",
    "ax[0].axhline(0, ls = '--', color = 'k')\n",
    "ax[1].axhline(0, ls = '--', color = 'k')\n",
    "\n",
    "ax[0].tick_params(labelsize = 18)\n",
    "ax[1].tick_params(labelsize = 18)\n",
    "\n",
    "\n",
    "ax[0].set_xlabel('Wavelength ($\\mu$m)', fontsize = 18)\n",
    "ax[0].set_ylabel('Measured q ($\\sigma$)', fontsize = 20)\n",
    "# ax[0].text(1.22,6,'Normalized Flux', color = 'C1', fontsize = 18)\n",
    "\n",
    "\n",
    "ax[1].set_xlabel('Wavelength ($\\mu$m)', fontsize = 18)\n",
    "ax[1].set_ylabel('Measured u ($\\sigma$)', fontsize = 20)\n",
    "# ax[1].text(1.22,6,'Normalized Flux', color = 'C1', fontsize = 18)\n",
    "good_ind = np.logical_or(q_sc_sm/(q_sc_std_sm/np.sqrt(len(all_q))) > 3, u_sc_sm/(u_sc_std_sm/np.sqrt(len(all_u)))>2.9)\n",
    "\n",
    "ax[0].axhline(3)\n",
    "ax[1].axhline(2.9)\n",
    "\n",
    "# plt.savefig('%s_qu_sigma.pdf'%SN_name)\n",
    "# np.save('%s_good_ind.npy'%SN_name, good_ind)"
   ]
  },
  {
   "cell_type": "code",
   "execution_count": null,
   "metadata": {},
   "outputs": [],
   "source": [
    "# good_ind"
   ]
  },
  {
   "cell_type": "markdown",
   "metadata": {},
   "source": [
    "# qu Plane Plot"
   ]
  },
  {
   "cell_type": "code",
   "execution_count": null,
   "metadata": {},
   "outputs": [],
   "source": [
    "# from matplotlib import cm\n",
    "\n",
    "# # nearby_pol = np.load('../2017eaw/new_nearby_pol.npy')\n",
    "# # nearby_wlSol = np.load('../2017eaw/new_nearby_wlSol.npy')\n",
    "\n",
    "# # #BD+59 from June\n",
    "# # BD_pol = np.load('../20180623_2017eaw_cal/june_cal_BD59_qu.npy')\n",
    "\n",
    "\n",
    "# plt.figure(figsize = (7,6))\n",
    "# SN_range = np.where( np.logical_and(wlSol_smooth < wlMax , wlSol_smooth > wlMin))\n",
    "\n",
    "\n",
    "# cm1 = plt.get_cmap('plasma')\n",
    "\n",
    "\n",
    "# col_SN = cm1( (wlSol_smooth[SN_range] - 1.2) /len(SN_range))\n",
    "\n",
    "\n",
    "\n",
    "\n",
    "# #SN points\n",
    "# SN_color = wlSol_smooth[SN_range]#(nearby_wlSol[nearby_range] - 1.18)/len(nearby_range)\n",
    "# SN_qu = plt.scatter(100*cal_q_sm[SN_range], 100*cal_u_sm[SN_range], c = SN_color, \n",
    "#                             marker= 'o', cmap = cm.plasma,s  =100)\n",
    "# print(SN_qu.get_facecolor())\n",
    "\n",
    "# cb = plt.colorbar(SN_qu)\n",
    "\n",
    "# cb.ax.tick_params(labelsize=18)\n",
    "# cb.set_label('Wavelength ($\\mu$m)', fontsize = 18)\n",
    "\n",
    "# #SN line and errorbars\n",
    "# lines, foo,errorlinecollection = plt.errorbar(100*cal_q_sm[SN_range], 100*cal_u_sm[SN_range], \\\n",
    "#               xerr = 100*cal_q_err_sm[SN_range], yerr = 100*cal_u_err_sm[SN_range], \n",
    "#               fmt= '--')#, ecolor = SN_qu.get_facecolor())\n",
    "# # error_color = cb.to_rgba(SN_color)\n",
    "# # error_color = matplotlib.colors.to_rgba_array(SN_color)\n",
    "# ecols = cm.plasma( (wlSol_smooth[SN_range]-np.min(wlSol_smooth[SN_range]))/ \\\n",
    "#                   np.max((wlSol_smooth[SN_range]-np.min(wlSol_smooth[SN_range])))  )\n",
    "\n",
    "# errorlinecollection[0].set_color(ecols)\n",
    "# errorlinecollection[1].set_color(ecols)\n",
    "\n",
    "\n",
    "# # print(errorlinecollection[0].get_color())\n",
    "# # print(errorlinecollection[1].get_color())\n",
    "                    \n",
    "\n",
    "\n",
    "# plt.tick_params(axis='both', which='major', labelsize=18)\n",
    "# plt.xlabel('q (%)', fontsize = 18)\n",
    "# plt.ylabel('u (%)', fontsize = 18)\n",
    "\n",
    "# # plt.text(0.7,1.1,'SN', fontsize = 18)\n",
    "# # plt.text(-2.5,0.3,'J2034 \\n2017 June ', fontsize = 18)\n",
    "# # plt.text(-2.7,-2.5,'BD+59 2267 \\n2018 June ', fontsize = 18)\n",
    "\n",
    "\n",
    "# #plt.errorbar(np.median(q_ISP)*100, np.median(u_ISP)*100)#, xerr = np.std(q_ISP)*100, yerr = np.std(u_ISP)*100)\n",
    "# #plt.errorbar(np.median(q_ISP_2)*100, np.median(u_ISP_2)*100)#, xerr = np.std(q_ISP_2)*100, yerr =np.std(u_ISP_2)*100)\n",
    "\n",
    "# # plt.plot(np.median(q_ISP)*100, np.median(u_ISP)*100, marker = 'x', markersize = 20, mew = 5, color = 'C0')\n",
    "# # plt.plot(np.median(q_ISP_2)*100, np.median(u_ISP_2)*100, marker = 'x', markersize = 20, mew = 5, color = 'C1')\n",
    "\n",
    "# # plt.text(-1.4, -0.8, \"ISP\\nmodel A\", fontsize = 18, color = 'C0', ha = 'right')\n",
    "# # plt.text(0.2, -1.9, \"ISP model B\", fontsize = 18, color = 'C1')\n",
    "\n",
    "# #hightlight 0,0\n",
    "# plt.plot([0,0], [-3,3], color = 'k', alpha = 0.3)\n",
    "# plt.plot([-3,3],[0,0] , color = 'k', alpha = 0.3)\n",
    "\n",
    "\n",
    "# plt.grid(ls = '--')\n",
    "# plt.xlim([-3,3])\n",
    "# plt.ylim([-3,3])\n",
    "\n",
    "\n",
    "# # plt.savefig('2018hna_raw_qu_aligned_peak.pdf')"
   ]
  },
  {
   "cell_type": "code",
   "execution_count": null,
   "metadata": {},
   "outputs": [],
   "source": [
    "# #NIRES Spectrum\n",
    "# from astropy.io import ascii as asci\n",
    "# # NIRES_spec = asci.read('nir_spectra/18hna_mar_NIRES.ascii', names = ['wl', 'flux', 'eflux'])\n",
    "# NIRES_spec = asci.read('nir_spectra/18hna_may_NIRES.ascii', names = ['wl', 'flux'])\n",
    "\n",
    "# NIRES_range = np.logical_and(NIRES_spec['wl'] > wlMin*10000, NIRES_spec['wl'] < 1.32*10000)"
   ]
  },
  {
   "cell_type": "code",
   "execution_count": null,
   "metadata": {},
   "outputs": [],
   "source": [
    "# plt.plot(NIRES_spec[NIRES_range]['wl'], NIRES_spec[NIRES_range]['flux'])"
   ]
  },
  {
   "cell_type": "code",
   "execution_count": null,
   "metadata": {},
   "outputs": [],
   "source": [
    "# np.save('%s_normalized_flux.npy'%SN_name, np.array([ wlSol, flux_spec/np.max(flux_spec)]))"
   ]
  },
  {
   "cell_type": "markdown",
   "metadata": {},
   "source": [
    "# p and $\\theta$"
   ]
  },
  {
   "cell_type": "code",
   "execution_count": null,
   "metadata": {},
   "outputs": [],
   "source": [
    "p_old, p_corr_old, dp_old, theta_old, dtheta_old = src.compute_p_and_pa(q_sc_sm, u_sc_sm,q_sc_std_sm/np.sqrt(len(all_q)), u_sc_std_sm/np.sqrt(len(all_u)))\n",
    "\n",
    "p, p_corr, dp, theta, dtheta = src.compute_p_and_pa(cal_q_sm, cal_u_sm ,cal_q_err_sm, cal_u_err_sm)\n",
    "\n",
    "\n",
    "theta[theta<0] = theta[theta<0]+np.pi\n",
    "# theta[theta>np.pi] = theta[theta>np.pi]-np.pi"
   ]
  },
  {
   "cell_type": "code",
   "execution_count": null,
   "metadata": {},
   "outputs": [],
   "source": [
    "plt.errorbar(wlSol_smooth, 100*p_old, 100*dp_old, color = 'r', ls = 'None')\n",
    "plt.errorbar(wlSol_smooth, 100*p,     100*dp, color = 'k', ls = 'None')\n",
    "plt.xlim([wlMin, wlMax])\n",
    "plt.ylim([0,5])"
   ]
  },
  {
   "cell_type": "code",
   "execution_count": null,
   "metadata": {},
   "outputs": [],
   "source": [
    "plt.plot(wlSol_smooth, 100*dp_old, color = 'r', ls = 'None', marker = 'o')\n",
    "plt.plot(wlSol_smooth, 100*dp, color = 'k', ls = 'None', marker = 'o')\n",
    "plt.xlim([wlMin, wlMax])\n",
    "plt.ylim([0,1])"
   ]
  },
  {
   "cell_type": "code",
   "execution_count": null,
   "metadata": {},
   "outputs": [],
   "source": [
    "fig, ax = plt.subplots(1,2,figsize = (15,6))\n",
    "\n",
    "\n",
    "ax[0].errorbar(wlSol_smooth, p*100, dp*100, marker = 'o', ls = 'None', alpha = 0.5)\n",
    "ax[0].errorbar(wlSol_smooth, p_corr*100, dp*100, marker = 'o', ls = 'None')\n",
    "\n",
    "ax[0].set_ylim([-1,5])\n",
    "ax[0].set_xlim([wlMin,wlMax])\n",
    "\n",
    "thetadeg = np.degrees(theta)\n",
    "# thetadeg[thetadeg > 150] = thetadeg[thetadeg > 150]-180\n",
    "ax[1].errorbar(wlSol_smooth, thetadeg, np.degrees(dtheta), marker = 'o', ls = 'None')\n",
    "# ax[1].set_ylim([50,200])\n",
    "ax[1].set_xlim([wlMin,wlMax])\n",
    "\n",
    "#Flux\n",
    "ax[0].plot(wlSol, flux_spec/np.max(flux_spec)*4)\n",
    "ax[1].plot(wlSol, flux_spec/np.max(flux_spec)*180)\n",
    "\n",
    "\n",
    "ax[0].axhline(0, ls = '--', color = 'k')\n",
    "ax[1].axhline(0, ls = '--', color = 'k')\n",
    "\n",
    "ax[0].tick_params(labelsize = 18)\n",
    "ax[1].tick_params(labelsize = 18)\n",
    "\n",
    "\n",
    "ax[0].set_xlabel('Wavelength ($\\mu$m)', fontsize = 18)\n",
    "ax[0].set_ylabel('p (%)', fontsize = 20)\n",
    "\n",
    "\n",
    "ax[1].set_xlabel('Wavelength ($\\mu$m)', fontsize = 18)\n",
    "ax[1].set_ylabel('theta (deg)', fontsize = 20)\n",
    "\n",
    "\n",
    "# plt.savefig('%s_ptheta_prelim_align_peak.pdf'%SN_name)"
   ]
  },
  {
   "cell_type": "code",
   "execution_count": null,
   "metadata": {},
   "outputs": [],
   "source": [
    "#Save P\n",
    "# np.save('%s_ptheta.npy'%SN_name,np.array([wlSol_smooth, p_corr*100, dp*100, np.degrees(theta), np.degrees(dtheta)]))"
   ]
  },
  {
   "cell_type": "markdown",
   "metadata": {},
   "source": [
    "## Summary Figure"
   ]
  },
  {
   "cell_type": "code",
   "execution_count": null,
   "metadata": {},
   "outputs": [],
   "source": [
    "# def annotateLine(ax, wl, y, length, line_name, textoffset, color, show_text = True, **kwargs):\n",
    "#     ###draw line\n",
    "#     ax.plot([wl,wl], [y, y-length], color = color)\n",
    "#     if show_text:\n",
    "#         ax.text(wl-textoffset[0], y-length-textoffset[1], line_name, color = color, **kwargs, va = 'top', ha ='center')\n",
    "# #     ax.annotate(line_name,xy = (wl, y-length), xytext = (wl-textoffset[0], y-length-textoffset[1]), \\\n",
    "# #                      arrowprops = {'arrowstyle':'-'}, ha = 'center', va = 'top', **kwargs)\n"
   ]
  },
  {
   "cell_type": "code",
   "execution_count": null,
   "metadata": {},
   "outputs": [],
   "source": [
    "# from matplotlib import cm\n",
    "# fig, ax = plt.subplots(1,3,figsize = (24,6))\n",
    "\n",
    "# wlMin = 1.17\n",
    "# wlMax = 1.31\n",
    "\n",
    "\n",
    "# # ax[0].errorbar(wlSol_smooth, sm_q*100, sm_q_std*100/np.sqrt(len(all_q)), marker = 'o', ls = 'None')\n",
    "# ax[0].set_ylim([-2,4])\n",
    "# ax[0].set_xlim([wlMin,wlMax])\n",
    "\n",
    "# ax[0].errorbar(wlSol_smooth, cal_q_sm*100, cal_q_err_sm*100, \\\n",
    "#                marker = 's', ls = 'None', color = '#FF0018')\n",
    "\n",
    "# ax[0].axhline(0, ls = '--', color = 'k')\n",
    "# # ax[1].axhline(0, ls = '--', color = 'k')\n",
    "\n",
    "\n",
    "\n",
    "# # ax[1].tick_params(labelsize = 18)\n",
    "\n",
    "# ax[0].set_xlabel('Wavelength ($\\mu$m)', fontsize = 18)\n",
    "# ax[0].set_ylabel('q (%)', fontsize = 20, color = '#FF0018')\n",
    "\n",
    "# #Plot u on the same axis\n",
    "# u_ax = ax[0].twinx()\n",
    "# # ax[1].errorbar(wlSol_smooth, sm_u*100, sm_u_std*100/np.sqrt(len(all_u)), marker = 'o', ls = 'None')\n",
    "# u_ax.set_ylim([-2,4])\n",
    "# u_ax.set_xlim([wlMin,wlMax])\n",
    "\n",
    "# u_ax.errorbar(wlSol_smooth, cal_u_sm*100, cal_u_err_sm*100, \\\n",
    "#               marker = 's', ls = 'None', color = '#0000F9')\n",
    "\n",
    "# #Ticks and labels\n",
    "\n",
    "# ax[0].tick_params(labelsize = 18)\n",
    "# ax[0].tick_params(axis = 'y', labelcolor = '#FF0018')\n",
    "\n",
    "# u_ax.tick_params(labelsize = 18, labelcolor = '#0000F9')\n",
    "# u_ax.set_ylabel('u (%)', fontsize = 20, color = '#0000F9')\n",
    "\n",
    "# #Flux\n",
    "# ax[0].plot(wlSol, (flux_spec/np.max(flux_spec) - 0.5)*6, color = '#FFA52C')\n",
    "# # ax[1].plot(wlSol, flux_spec/np.max(flux_spec)*3.5, color = 'C1')\n",
    "\n",
    "# #NIRES flux\n",
    "# # ax[0].plot(NIRES_spec['wl'][NIRES_range]/10000, NIRES_spec['flux'][NIRES_range]/np.max(NIRES_spec['flux'][NIRES_range])*3.7, color = 'red')\n",
    "# # ax[1].plot(NIRES_spec['wl'][NIRES_range]/10000, NIRES_spec['flux'][NIRES_range]/np.max(NIRES_spec['flux'][NIRES_range])*3.7, color = 'red')\n",
    "\n",
    "\n",
    "# ax[0].text(1.19,3.5,'WIRC+Pol Normalized Flux', color = '#FFA52C', fontsize = 18)\n",
    "# # ax[0].text(1.19,3.0,'NIRES Normalized Flux (May)', color = 'r', fontsize = 18)\n",
    "\n",
    "\n",
    "# # ax[1].set_xlabel('Wavelength ($\\mu$m)', fontsize = 18)\n",
    "# # ax[1].set_ylabel('u (%)', fontsize = 20)\n",
    "# # ax[1].text(1.19,3.5,'WIRC+Pol Normalized Flux', color = 'C1', fontsize = 18)\n",
    "# # ax[1].text(1.19,3.0,'NIRES Normalized Flux', color = 'r', fontsize = 18)\n",
    "\n",
    "# #qu plane\n",
    "# SN_range = np.where( np.logical_and(wlSol_smooth < wlMax , wlSol_smooth > wlMin))\n",
    "\n",
    "\n",
    "# cm1 = plt.get_cmap('plasma')\n",
    "\n",
    "\n",
    "# col_SN = cm1( (wlSol_smooth[SN_range] - 1.2) /len(SN_range))\n",
    "\n",
    "\n",
    "# #SN points\n",
    "# SN_color = wlSol_smooth[SN_range]#(nearby_wlSol[nearby_range] - 1.18)/len(nearby_range)\n",
    "# SN_qu = ax[1].scatter(100*cal_q_sm[SN_range], 100*cal_u_sm[SN_range], c = SN_color, \\\n",
    "#                             marker= 'o', cmap = cm.plasma,s  =100)\n",
    "\n",
    "\n",
    "# #SN line and errorbars\n",
    "# lines, foo,errorlinecollection = ax[1].errorbar(100*cal_q_sm[SN_range], 100*cal_u_sm[SN_range], \\\n",
    "#               xerr = 100*cal_q_err_sm[SN_range], yerr = 100*cal_u_err_sm[SN_range], fmt= '--')\n",
    "# ecols = cm.plasma( (wlSol_smooth[SN_range]-np.min(wlSol_smooth[SN_range]))/ \\\n",
    "#                   np.max((wlSol_smooth[SN_range]-np.min(wlSol_smooth[SN_range])))  )\n",
    "\n",
    "# errorlinecollection[0].set_color(ecols)\n",
    "# errorlinecollection[1].set_color(ecols)\n",
    "\n",
    "# cb = fig.colorbar(SN_qu, ax = ax[1])\n",
    "# cb.ax.tick_params(labelsize=18)\n",
    "# cb.set_label('Wavelength ($\\mu$m)', fontsize = 18)                \n",
    "\n",
    "\n",
    "# ax[1].tick_params(axis='both', which='major', labelsize=18)\n",
    "# ax[1].set_xlabel('q (%)', fontsize = 18)\n",
    "# ax[1].set_ylabel('u (%)', fontsize = 18)\n",
    "\n",
    "# # plt.text(0.7,1.1,'SN', fontsize = 18)\n",
    "# # plt.text(-2.5,0.3,'J2034 \\n2017 June ', fontsize = 18)\n",
    "# # plt.text(-2.7,-2.5,'BD+59 2267 \\n2018 June ', fontsize = 18)\n",
    "\n",
    "\n",
    "# #plt.errorbar(np.median(q_ISP)*100, np.median(u_ISP)*100)#, xerr = np.std(q_ISP)*100, yerr = np.std(u_ISP)*100)\n",
    "# #plt.errorbar(np.median(q_ISP_2)*100, np.median(u_ISP_2)*100)#, xerr = np.std(q_ISP_2)*100, yerr =np.std(u_ISP_2)*100)\n",
    "\n",
    "# # plt.plot(np.median(q_ISP)*100, np.median(u_ISP)*100, marker = 'x', markersize = 20, mew = 5, color = 'C0')\n",
    "# # plt.plot(np.median(q_ISP_2)*100, np.median(u_ISP_2)*100, marker = 'x', markersize = 20, mew = 5, color = 'C1')\n",
    "\n",
    "# # plt.text(-1.4, -0.8, \"ISP\\nmodel A\", fontsize = 18, color = 'C0', ha = 'right')\n",
    "# # plt.text(0.2, -1.9, \"ISP model B\", fontsize = 18, color = 'C1')\n",
    "\n",
    "# #hightlight 0,0\n",
    "# ax[1].plot([0,0], [-3,3], color = 'k', alpha = 0.3)\n",
    "# ax[1].plot([-3,3],[0,0] , color = 'k', alpha = 0.3)\n",
    "\n",
    "\n",
    "# ax[1].grid(ls = '--')\n",
    "# ax[1].set_xlim([-3,3])\n",
    "# ax[1].set_ylim([-3,3])\n",
    "\n",
    "# ax[1].set_aspect('equal', adjustable='box')\n",
    "\n",
    "\n",
    "# ########p theta\n",
    "# ax[2].tick_params(axis='both', which='major', labelsize=18)\n",
    "# ax[2].set_xlabel('Wavelength ($\\mu$m)', fontsize = 18)\n",
    "# ax[2].set_ylabel('p (%)', fontsize = 20, color = '#008018')\n",
    "\n",
    "\n",
    "# # ax[2].plot(wlSol_smooth, p*100, marker = 'o', ls = 'None', alpha = 0.5)\n",
    "# ax[2].errorbar(wlSol_smooth[good_ind], p_corr[good_ind]*100, dp[good_ind]*100, marker = 's', ls = 'None', color = '#008018')\n",
    "# ax[2].set_xlim([wlMin, wlMax])\n",
    "# ax[2].set_ylim(0,4)\n",
    "# ax[2].tick_params(axis = 'y', labelcolor = '#008018')\n",
    "\n",
    "# # good = ~np.isnan(p_corr)\n",
    "# ax[2].plot(wlSol_smooth[~good_ind], 3*100*(dp[~good_ind]),  marker = 'v', ls = 'None', color = '#008018', ms = 10)\n",
    "\n",
    "\n",
    "# t_ax = ax[2].twinx()\n",
    "# t_ax.set_ylabel(r'$\\theta$ ($\\circ$)', fontsize = 20, color = '#86007D')\n",
    "# t_ax.tick_params(axis='both', which='major', labelsize=18, labelcolor ='#86007D')\n",
    "\n",
    "# t_ax.errorbar(wlSol_smooth[good_ind], thetadeg[good_ind], np.degrees(dtheta[good_ind]), marker = 'o', ls = 'None', color = '#86007D')\n",
    "# t_ax.set_ylim([80,170])\n",
    "\n",
    "# #flux\n",
    "# ax[2].plot(wlSol, flux_spec/np.max(flux_spec)*2.5, color = '#FFA52C')\n",
    "# ax[2].text(1.19,2.75,'WIRC+Pol Normalized Flux', color = '#FFA52C', fontsize = 18)\n",
    "\n",
    "\n",
    "\n",
    "# plt.tight_layout(rect=[0, 0, 1, 0.95])\n",
    "\n",
    "# plt.suptitle(\"SN2020oi (Ic)\", fontsize = 24)\n",
    "\n",
    "# plt.savefig('%s_summary_calibrated.pdf'%SN_name)"
   ]
  },
  {
   "cell_type": "markdown",
   "metadata": {},
   "source": [
    "## Compute broadband q and u"
   ]
  },
  {
   "cell_type": "code",
   "execution_count": null,
   "metadata": {},
   "outputs": [],
   "source": [
    "#Compute broadband values\n",
    "q_bb = np.mean(cal_q_sm[plot_range])\n",
    "q_bb_err = np.mean(cal_q_err_sm[plot_range])/np.sqrt(len(cal_q_err_sm[plot_range]))\n",
    "\n",
    "u_bb = np.mean(cal_u_sm[plot_range])\n",
    "u_bb_err = np.mean(cal_u_err_sm[plot_range])/np.sqrt(len(cal_u_err_sm[plot_range]))"
   ]
  },
  {
   "cell_type": "code",
   "execution_count": null,
   "metadata": {},
   "outputs": [],
   "source": [
    "print(q_bb*100, q_bb_err*100, u_bb*100, u_bb_err*100)"
   ]
  },
  {
   "cell_type": "code",
   "execution_count": null,
   "metadata": {},
   "outputs": [],
   "source": [
    "print(100*np.nanmean(p_corr[plot_range]), 100*np.mean(dp[SN_range])/np.sqrt(len(dp[plot_range])))"
   ]
  },
  {
   "cell_type": "code",
   "execution_count": null,
   "metadata": {},
   "outputs": [],
   "source": [
    "p_bb = np.sqrt(q_bb**2 + u_bb**2)\n",
    "dp_bb = 1/p_bb * np.sqrt( (q_bb * u_bb_err)**2 + (u_bb * q_bb_err)**2)"
   ]
  },
  {
   "cell_type": "code",
   "execution_count": null,
   "metadata": {},
   "outputs": [],
   "source": [
    "print(p_bb*100, dp_bb*100, np.sqrt(p_bb**2 - dp_bb**2)*100)"
   ]
  },
  {
   "cell_type": "markdown",
   "metadata": {},
   "source": [
    "## Typical uncertainty"
   ]
  },
  {
   "cell_type": "code",
   "execution_count": null,
   "metadata": {},
   "outputs": [],
   "source": [
    "print(np.mean(cal_q_err_sm[plot_range])*100, np.mean(cal_u_err_sm[plot_range])*100)"
   ]
  },
  {
   "cell_type": "code",
   "execution_count": null,
   "metadata": {},
   "outputs": [],
   "source": [
    "# plt.figure(figsize = (15,10))\n",
    "# NIRES_range = np.logical_and(NIRES_spec['wl'] > 10000, NIRES_spec['wl'] < wlMax*14000)\n",
    "# plt.plot(NIRES_spec['wl'][NIRES_range]/10000/(1+z_sn), NIRES_spec['flux'][NIRES_range]/np.max(NIRES_spec['flux'][NIRES_range])*3.7-2, color = 'g')\n",
    "\n",
    "# plt.axvspan(1.18, 1.21, color = 'grey', alpha = 0.1)\n",
    "# plt.axvspan(1.24, 1.27, color = 'grey', alpha = 0.1)\n",
    "\n",
    "# #lines\n",
    "# plt.axvline(1.282, color = 'b')\n",
    "\n",
    "# plt.axvline(1.257, color = 'r')\n"
   ]
  }
 ],
 "metadata": {
  "kernelspec": {
   "display_name": "Python 3",
   "language": "python",
   "name": "python3"
  },
  "language_info": {
   "codemirror_mode": {
    "name": "ipython",
    "version": 3
   },
   "file_extension": ".py",
   "mimetype": "text/x-python",
   "name": "python",
   "nbconvert_exporter": "python",
   "pygments_lexer": "ipython3",
   "version": "3.7.6"
  }
 },
 "nbformat": 4,
 "nbformat_minor": 2
}
