{
 "cells": [
  {
   "cell_type": "code",
   "execution_count": null,
   "metadata": {},
   "outputs": [],
   "source": [
    "#Pipeline imports\n",
    "%matplotlib inline\n",
    "%load_ext autoreload\n",
    "%autoreload 2\n",
    "import glob\n",
    "import numpy as np\n",
    "import matplotlib.pyplot as plt\n",
    "import wirc_drp.wirc_object as wo\n",
    "import wirc_drp.constants as constants\n",
    "from wirc_drp.utils import calibration, spec_utils as su, image_utils as iu, source_utils as src\n",
    "from wirc_drp.masks import *\n",
    "import copy\n",
    "\n",
    "from astropy.io import fits\n",
    "from astropy.stats import sigma_clipped_stats\n",
    "\n",
    "%load_ext autoreload\n",
    "%autoreload 2"
   ]
  },
  {
   "cell_type": "markdown",
   "metadata": {},
   "source": [
    "# Set target name and observation date"
   ]
  },
  {
   "cell_type": "code",
   "execution_count": null,
   "metadata": {},
   "outputs": [],
   "source": [
    "target_name = 'SN2020oi'\n",
    "obs_date = '20190119'"
   ]
  },
  {
   "cell_type": "markdown",
   "metadata": {},
   "source": [
    "# Load sample images from the observation and run find source"
   ]
  },
  {
   "cell_type": "code",
   "execution_count": null,
   "metadata": {},
   "outputs": [],
   "source": [
    "test_data = wo.wirc_data(wirc_object_filename= \"/scr/data/Calibrated Files/%s/Auto_Reduced/image0584_cal.fits\"%obs_date)\n",
    "bkg_image1 = wo.wirc_data(wirc_object_filename=\"/scr/data/Calibrated Files/%s/Auto_Reduced/image0578_cal.fits\"%obs_date)\n",
    "# bkg_image2 = wo.wirc_data(wirc_object_filename=\"/scr/data/Calibrated Files/2020119/Auto_Reduced/image_cal.fits\")"
   ]
  },
  {
   "cell_type": "code",
   "execution_count": null,
   "metadata": {},
   "outputs": [],
   "source": [
    "# wo.wirc_data.find_sources_v2?"
   ]
  },
  {
   "cell_type": "code",
   "execution_count": null,
   "metadata": {},
   "outputs": [],
   "source": [
    "test_data.bkg_image = bkg_image1.full_image*np.nanmedian(test_data.full_image)/np.nanmedian(bkg_image1.full_image)\n",
    "test_data.cross_correlation_template = None\n",
    "test_data.find_sources_v2(show_plots=True)\n"
   ]
  },
  {
   "cell_type": "markdown",
   "metadata": {},
   "source": [
    "# Make a list of all observations"
   ]
  },
  {
   "cell_type": "code",
   "execution_count": null,
   "metadata": {},
   "outputs": [],
   "source": [
    "def make_list(start, stop, path, prefix):\n",
    "    file_list = [path+prefix+str(x).zfill(4)+'_cal.fits' for x in np.arange(start, stop+1)]\n",
    "    return file_list\n"
   ]
  },
  {
   "cell_type": "code",
   "execution_count": null,
   "metadata": {},
   "outputs": [],
   "source": [
    "data_path = '/scr/data/Calibrated Files/%s/Auto_Reduced/'%obs_date\n",
    "prefix = 'image' #sometimes it's wirc\n",
    "\n",
    "#Example here make a list of files from image0584.fits to image0659.fits from data_path\n",
    "#If there's a gap in your observations, run two make_list commands and add the resulting lists together\n",
    "filelist = make_list(584, 659, data_path, prefix)"
   ]
  },
  {
   "cell_type": "code",
   "execution_count": null,
   "metadata": {},
   "outputs": [],
   "source": [
    "#Get Half Wave Plate Sequence"
   ]
  },
  {
   "cell_type": "code",
   "execution_count": null,
   "metadata": {},
   "outputs": [],
   "source": []
  },
  {
   "cell_type": "markdown",
   "metadata": {},
   "source": [
    "# Background subtraction \n",
    "Uncomment a cell that is most appropriate for you."
   ]
  },
  {
   "cell_type": "code",
   "execution_count": null,
   "metadata": {},
   "outputs": [],
   "source": [
    "# AB Dither: Observations are done with some AB dither sequence, likely in slit\n",
    "bkg_sub = 'AB'\n",
    "bkg_ind = src.find_best_background(filelist)"
   ]
  },
  {
   "cell_type": "code",
   "execution_count": null,
   "metadata": {},
   "outputs": [],
   "source": [
    "# Background frame\n",
    "bkg_sub = 'background_frame'\n",
    "bkg_frame = \"background_image.fits\""
   ]
  },
  {
   "cell_type": "code",
   "execution_count": null,
   "metadata": {},
   "outputs": [],
   "source": [
    "# Fit background profile inside slit\n",
    "bkg_sub = 'slit_background'"
   ]
  },
  {
   "cell_type": "code",
   "execution_count": null,
   "metadata": {},
   "outputs": [],
   "source": [
    "# Shift and subtract\n",
    "# This is simply using a shifted science image as background frame. \n",
    "bkg_sub = 'shift'\n"
   ]
  },
  {
   "cell_type": "markdown",
   "metadata": {},
   "source": [
    "# Define source location"
   ]
  },
  {
   "cell_type": "code",
   "execution_count": null,
   "metadata": {},
   "outputs": [],
   "source": [
    "#This is the location of the zeroth order (undispersed) point source\n",
    "#If source is observed inside the slit, use x = 1020 and y = 1060\n",
    "source_pos_x = 1020\n",
    "source_pos_y = 1060"
   ]
  },
  {
   "cell_type": "markdown",
   "metadata": {},
   "source": [
    "# Run spectral extraction on all files"
   ]
  },
  {
   "cell_type": "code",
   "execution_count": null,
   "metadata": {
    "scrolled": true
   },
   "outputs": [],
   "source": [
    "output_dir = \"/scr/data/ManualReduction/calibrated/%s/%s_ST/\"%(target_name, obs_date)\n",
    "###check path\n",
    "if os.path.isdir(output_dir) == False:\n",
    "    \n",
    "\n",
    "###\n",
    "\n",
    "\n",
    "spec_cube = np.zeros((len(filelist),4,3,161))\n",
    "\n",
    "for i,fname in enumerate(filelist):\n",
    "    print(\"File {} of {}: {}\".format(i+1,len(filelist),fname))\n",
    "    tst_data = wo.wirc_data(wirc_object_filename=fname,verbose=False)\n",
    "    filter_name = tst_data.filter_name\n",
    "\n",
    "    tst_data.add_source(source_pos_x,source_pos_y, slit_pos = \"slitless\", update_w_chi2_shift = True, verbose = True)\n",
    "    #Fit background, for slit data only\n",
    "    if bkg_sub == 'slit_background':\n",
    "        tst_data.generate_bkg(method='slit_background',verbose=True,plot=True,vmax=3000, fit_width = 3)\n",
    "    #AB subtraction\n",
    "    elif bkg_sub == 'AB':\n",
    "        tst_data.generate_bkg(method='scaled_bkg',bkg_fns = filelist[bkg_ind[i]],bkg_by_quadrants = True)\n",
    "    #Shift and subtract if background frame is not available\n",
    "    elif bkg_sub == 'shift':\n",
    "        tst_data.generate_bkg(method='shift_and_subtract',shift_dir='horizontal', bkg_sub_shift_size = 31)\n",
    "    elif bkg_sub == 'background_frame':\n",
    "        tst_data.generate_bkg(method='scaled_bkg',bkg_fns = [bkg_frame] ,bkg_by_quadrants = True)\n",
    "        \n",
    "    #Get cutout of the four spectral traces\n",
    "    wp_source = tst_data.source_list[0]\n",
    "    wp_source.get_cutouts(tst_data.full_image,tst_data.DQ_image,filter_name = filter_name,\n",
    "                              bkg_image = tst_data.bkg_image,\n",
    "                              replace_bad_pixels=True,method='median',sub_bar=False)\n",
    "    wp_source.plot_cutouts(figsize=(10,6),vmax = 3000, plot_bkg_sub=False)\n",
    "    wp_source.plot_cutouts(figsize=(10,6),plot_dq=True)\n",
    "    plt.show()\n",
    "    #Here run spectral extraction\n",
    "    wp_source.extract_spectra(method='optimal_extraction'\n",
    "                                verbose=True,plot_result=False,\n",
    "                              plot_findTrace=False,plot_optimal_extraction=True,\n",
    "                             spatial_sigma=3,bad_pix_masking =1, trace_angle = [-44.8, -46.3, -43.7, -44.6])\n",
    "    spec_cube[i] = wp_source.trace_spectra\n",
    "    tst_data.source_list.append(wp_source)\n",
    "    tst_data.n_sources += 1\n",
    "    tst_data.save_wirc_object(output_dir+fname.split(\"/\")[-1])\n",
    "    \n",
    "    del tst_data\n",
    "    wp_source.plot_trace_spectra(figsize=(9,4))\n",
    "    \n",
    "    plt.show()"
   ]
  },
  {
   "cell_type": "markdown",
   "metadata": {
    "collapsed": true
   },
   "source": [
    "# Save spectra and HWP as numpy files"
   ]
  },
  {
   "cell_type": "code",
   "execution_count": null,
   "metadata": {},
   "outputs": [],
   "source": [
    "np.save('spec_cube_%s_%s_%s_%s.npy'%(target_name, obs_date, filter_name, bkg_sub), spec_cube)"
   ]
  },
  {
   "cell_type": "code",
   "execution_count": null,
   "metadata": {},
   "outputs": [],
   "source": [
    "HWP_all = []\n",
    "for i in filelist:\n",
    "    HWP_all += [fits.getheader(i)['HWP_ANG']]\n",
    "    \n",
    "np.save('HWP_%s_%s_%s.npy'%(target_name, obs_date, filter_name), HWP_all)"
   ]
  }
 ],
 "metadata": {
  "kernelspec": {
   "display_name": "Python 3",
   "language": "python",
   "name": "python3"
  },
  "language_info": {
   "codemirror_mode": {
    "name": "ipython",
    "version": 3
   },
   "file_extension": ".py",
   "mimetype": "text/x-python",
   "name": "python",
   "nbconvert_exporter": "python",
   "pygments_lexer": "ipython3",
   "version": "3.7.6"
  }
 },
 "nbformat": 4,
 "nbformat_minor": 2
}
